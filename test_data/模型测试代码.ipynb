{
 "cells": [
  {
   "cell_type": "code",
   "execution_count": 11,
   "id": "initial_id",
   "metadata": {
    "collapsed": true,
    "ExecuteTime": {
     "end_time": "2024-05-26T06:13:17.727044200Z",
     "start_time": "2024-05-26T06:13:17.671829900Z"
    }
   },
   "outputs": [
    {
     "name": "stdout",
     "output_type": "stream",
     "text": [
      "                                             content\n",
      "0  我家对面的门前有一大丛漂亮的花，它们在阳光下竞相开放，五颜六色。但蝴蝶花在这些花中脱颖而出，...\n",
      "1  露岚也来到了坝子上，静静地浮着，不再回到山谷里去。阳光虽然依旧明亮，却不再痛炙人的脊梁，变得...\n",
      "2        秋风飒飒地刮过之后，地上铺满了厚厚的落叶，踩上去“沙沙”作响，更增添了小院浓浓的秋意。\n",
      "3  周围起起伏伏的山峦披着绿的清新。向下看去，一层层错落有致的梯田一片片绿色，深绿和翠绿交错着。...\n",
      "4  那绿缎般清澈的金沙江水，衬托着多姿多彩又美丽宁静的小村庄，缓缓流淌，发出哗哗的轻快的响声。这...\n",
      "223\n"
     ]
    }
   ],
   "source": [
    "import pandas as pd\n",
    "\n",
    "# 读取JSON文件并转换为DataFrame\n",
    "test_datadf = pd.read_json('../data/unique_sentences.json')\n",
    "\n",
    "# 显示DataFrame的前几行数据\n",
    "print(test_datadf.head())\n",
    "\n",
    "# 将DataFrame中的数据存储到一个列表中\n",
    "test_data_list = test_datadf.values.tolist()\n",
    "\n",
    "# 打印列表中的数据\n",
    "print(len(test_data_list))"
   ]
  },
  {
   "cell_type": "code",
   "execution_count": 12,
   "outputs": [],
   "source": [
    "AUTHOR_PROMPT = \"根据故事：\"\n",
    "TITLE_PROMPT = \"作诗一首\"\n",
    "EOS_TOKEN = '</s>'"
   ],
   "metadata": {
    "collapsed": false,
    "ExecuteTime": {
     "end_time": "2024-05-26T06:13:17.727044200Z",
     "start_time": "2024-05-26T06:13:17.676633800Z"
    }
   },
   "id": "f6f86657052a2532"
  },
  {
   "cell_type": "code",
   "execution_count": 13,
   "outputs": [],
   "source": [
    "def poem(title_str, opt_story):\n",
    "  in_request = TITLE_PROMPT + title_str[:12] + EOS_TOKEN + AUTHOR_PROMPT + opt_story[:300]\n",
    "\n",
    "  return in_request"
   ],
   "metadata": {
    "collapsed": false,
    "ExecuteTime": {
     "end_time": "2024-05-26T06:13:17.774301300Z",
     "start_time": "2024-05-26T06:13:17.682109700Z"
    }
   },
   "id": "460df42c02fdce9c"
  },
  {
   "cell_type": "code",
   "execution_count": 14,
   "outputs": [],
   "source": [
    "import os\n",
    "from openai import OpenAI\n",
    "\n",
    "client = OpenAI(\n",
    "    # This is the default and can be omitted\n",
    "    api_key=os.environ.get(\"OPENAI_API_KEY\"),\n",
    ")\n",
    "\n",
    "\n",
    "def getOneMessageGPT(prompt):\n",
    "\n",
    "    chat_completion = client.chat.completions.create(\n",
    "        messages=[\n",
    "            {\n",
    "                \"role\": \"user\",\n",
    "                \"content\": prompt,\n",
    "            }\n",
    "        ],\n",
    "        model=\"gpt-4\",\n",
    "    )\n",
    "    return chat_completion.choices[0].message.content"
   ],
   "metadata": {
    "collapsed": false,
    "ExecuteTime": {
     "end_time": "2024-05-26T06:13:18.359428300Z",
     "start_time": "2024-05-26T06:13:17.695789500Z"
    }
   },
   "id": "476ff7a8d83f9164"
  },
  {
   "cell_type": "code",
   "execution_count": 15,
   "outputs": [],
   "source": [
    "gpt_result = []\n",
    "prompts = []\n",
    "for title in ['七言律诗', \"七言绝句\", '五言律诗',\"五言绝句\"]:\n",
    "    # Empty author means general style\n",
    "    for story in test_data_list[:1]:\n",
    "        prompts.append(poem(title, story[0]))\n",
    "        gpt_result.append(getOneMessageGPT(poem(title, story[0])))"
   ],
   "metadata": {
    "collapsed": false,
    "ExecuteTime": {
     "end_time": "2024-05-26T06:13:30.839676Z",
     "start_time": "2024-05-26T06:13:18.359428300Z"
    }
   },
   "id": "ba25463a7757123"
  },
  {
   "cell_type": "code",
   "execution_count": 16,
   "outputs": [
    {
     "data": {
      "text/plain": "['作诗一首七言律诗</s>根据故事：我家对面的门前有一大丛漂亮的花，它们在阳光下竞相开放，五颜六色。但蝴蝶花在这些花中脱颖而出，宛如一颗钻石在花丛中闪耀着他的光芒。',\n '作诗一首七言绝句</s>根据故事：我家对面的门前有一大丛漂亮的花，它们在阳光下竞相开放，五颜六色。但蝴蝶花在这些花中脱颖而出，宛如一颗钻石在花丛中闪耀着他的光芒。',\n '作诗一首五言律诗</s>根据故事：我家对面的门前有一大丛漂亮的花，它们在阳光下竞相开放，五颜六色。但蝴蝶花在这些花中脱颖而出，宛如一颗钻石在花丛中闪耀着他的光芒。',\n '作诗一首五言绝句</s>根据故事：我家对面的门前有一大丛漂亮的花，它们在阳光下竞相开放，五颜六色。但蝴蝶花在这些花中脱颖而出，宛如一颗钻石在花丛中闪耀着他的光芒。']"
     },
     "execution_count": 16,
     "metadata": {},
     "output_type": "execute_result"
    }
   ],
   "source": [
    "prompts"
   ],
   "metadata": {
    "collapsed": false,
    "ExecuteTime": {
     "end_time": "2024-05-26T06:13:30.851738200Z",
     "start_time": "2024-05-26T06:13:30.839676Z"
    }
   },
   "id": "ff860f07653f5da3"
  },
  {
   "cell_type": "code",
   "execution_count": 17,
   "outputs": [
    {
     "data": {
      "text/plain": "['门前百花竞相妍，阳光之下显彩饰。\\n五颜扮绿叶，六色灿烂逼日石。\\n独立花丛中，蝴蝶花娇艳笑。\\n光彩夺目照，如玉辉煌透花扉。',\n '门前花影艳阳天，五色斑斓映日边。\\n蝴蝶花中独璀璨，花丛钻石闪光环。',\n '对门花丛压路旁，阳光洒落竞争艳。\\n色彩斑斓喜春光，蝴蝶花中独放光。\\n如诗如画一花园，借古襄今人欣欣。\\n艳似一颗璀璨钻，闪烁花丛映日辉。',\n '花丛争艳耀日辉，蝶舞独秀披钻彩。\\n对门灿烂生晴意，一幕春华画里开。']"
     },
     "execution_count": 17,
     "metadata": {},
     "output_type": "execute_result"
    }
   ],
   "source": [
    "gpt_result"
   ],
   "metadata": {
    "collapsed": false,
    "ExecuteTime": {
     "end_time": "2024-05-26T06:13:30.851738200Z",
     "start_time": "2024-05-26T06:13:30.844034200Z"
    }
   },
   "id": "69fc3765a98d8625"
  },
  {
   "cell_type": "markdown",
   "source": [
    "# 百度 文心一言"
   ],
   "metadata": {
    "collapsed": false
   },
   "id": "887db3c714f460cb"
  },
  {
   "cell_type": "code",
   "execution_count": 18,
   "outputs": [],
   "source": [
    "API_KEY = \"BD6Os72JDhVbQfI51ekevUQU\"\n",
    "SECRET_KEY = \"SD0fjV3OT5g5N9wykHcIsIu3dUPFnmhJ\""
   ],
   "metadata": {
    "collapsed": false,
    "ExecuteTime": {
     "end_time": "2024-05-26T06:13:30.874412Z",
     "start_time": "2024-05-26T06:13:30.851738200Z"
    }
   },
   "id": "b625c350fbf88ab1"
  },
  {
   "cell_type": "code",
   "execution_count": 19,
   "outputs": [],
   "source": [
    "import requests\n",
    "import json\n",
    "\n",
    "def get_access_token():\n",
    "    \"\"\"\n",
    "    使用 AK，SK 生成鉴权签名（Access Token）\n",
    "    :return: access_token，或是None(如果错误)\n",
    "    \"\"\"\n",
    "    url = \"https://aip.baidubce.com/oauth/2.0/token\"\n",
    "    params = {\"grant_type\": \"client_credentials\", \"client_id\": API_KEY, \"client_secret\": SECRET_KEY}\n",
    "    return str(requests.post(url, params=params).json().get(\"access_token\"))"
   ],
   "metadata": {
    "collapsed": false,
    "ExecuteTime": {
     "end_time": "2024-05-26T06:13:30.949691200Z",
     "start_time": "2024-05-26T06:13:30.858832100Z"
    }
   },
   "id": "901a81f4210ccf08"
  },
  {
   "cell_type": "code",
   "execution_count": 20,
   "outputs": [
    {
     "data": {
      "text/plain": "'24.726787b435a4d64cf5db573c246a855e.2592000.1719295996.282335-74556683'"
     },
     "execution_count": 20,
     "metadata": {},
     "output_type": "execute_result"
    }
   ],
   "source": [
    "access_token = get_access_token()\n",
    "access_token"
   ],
   "metadata": {
    "collapsed": false,
    "ExecuteTime": {
     "end_time": "2024-05-26T06:13:32.027715400Z",
     "start_time": "2024-05-26T06:13:30.947359900Z"
    }
   },
   "id": "3b04fb2468da2e85"
  },
  {
   "cell_type": "code",
   "execution_count": 21,
   "outputs": [],
   "source": [
    "def getOneMessageWXYY(prompt):\n",
    "    url = \"https://aip.baidubce.com/rpc/2.0/ai_custom/v1/wenxinworkshop/chat/eb-instant?access_token=\" + access_token\n",
    "    # 注意message必须是奇数条\n",
    "    payload = json.dumps({\n",
    "        \"messages\": [\n",
    "            {\n",
    "                \"role\": \"user\",\n",
    "                \"content\": prompt\n",
    "            }\n",
    "            #,\n",
    "            #{\n",
    "            #    \"role\": \"assistant\",\n",
    "            #    \"content\": \"你好，有什么我可以帮助你的吗？\"\n",
    "            #}\n",
    "        ]\n",
    "    })\n",
    "    headers = {\n",
    "        'Content-Type': 'application/json'\n",
    "    }\n",
    " \n",
    "    response = requests.request(\"POST\", url, headers=headers, data=payload)\n",
    "    dict = json.loads(response.text)\n",
    "    return dict['result']"
   ],
   "metadata": {
    "collapsed": false,
    "ExecuteTime": {
     "end_time": "2024-05-26T06:13:32.034541500Z",
     "start_time": "2024-05-26T06:13:32.034541500Z"
    }
   },
   "id": "19b7bd7b681f1178"
  },
  {
   "cell_type": "code",
   "execution_count": 22,
   "outputs": [
    {
     "data": {
      "text/plain": "'山峦起伏披新绿，\\n梯田层叠翠深交。\\n小溪纵横山谷底，\\n美景令人叹不休。'"
     },
     "execution_count": 22,
     "metadata": {},
     "output_type": "execute_result"
    }
   ],
   "source": [
    "getOneMessageWXYY(\"作诗一首七言绝句</s>根据故事：周围起起伏伏的山峦披着绿的清新。向下看去，一层层错落有致的梯田一片片绿色，深绿和翠绿交错着。我感叹到：“啊!真美呀!”在山谷的底部，一条条小溪纵横交错着。\")"
   ],
   "metadata": {
    "collapsed": false,
    "ExecuteTime": {
     "end_time": "2024-05-26T06:13:34.009623200Z",
     "start_time": "2024-05-26T06:13:32.034541500Z"
    }
   },
   "id": "2f19e42972e542f1"
  },
  {
   "cell_type": "markdown",
   "source": [
    "# 我们的模型"
   ],
   "metadata": {
    "collapsed": false
   },
   "id": "40dc2d5e30be664e"
  },
  {
   "cell_type": "code",
   "execution_count": 23,
   "outputs": [
    {
     "name": "stdout",
     "output_type": "stream",
     "text": [
      "WARNING:tensorflow:From C:\\Compiler\\python\\Lib\\site-packages\\keras\\src\\losses.py:2976: The name tf.losses.sparse_softmax_cross_entropy is deprecated. Please use tf.compat.v1.losses.sparse_softmax_cross_entropy instead.\n"
     ]
    },
    {
     "name": "stderr",
     "output_type": "stream",
     "text": [
      "Global seed set to 42\n"
     ]
    }
   ],
   "source": [
    "import torch\n",
    "from simplet5 import SimpleT5\n",
    "from transformers import T5Tokenizer, T5ForConditionalGeneration\n",
    "# Load model directly\n",
    "# from transformers import AutoTokenizer, AutoModelForSeq2SeqLM\n",
    "\n",
    "# 指定模型和分词器的路径\n",
    "model_path = \"../output/simplet5-epoch-2-train-loss-3.8454-val-loss-4.0087\"\n",
    "tokenizer_path = \"../output/simplet5-epoch-2-train-loss-3.8454-val-loss-4.0087\"\n",
    "torch.cuda.empty_cache()\n",
    "class testMengziSimpleT5(SimpleT5):\n",
    "  def __init__(self) -> None:\n",
    "    super().__init__()\n",
    "    self.device = torch.device(\"cuda\")\n",
    "\n",
    "  def load_my_model(self, use_gpu: bool = True):\n",
    "    # 加载分词器\n",
    "    self.tokenizer = T5Tokenizer.from_pretrained(tokenizer_path)\n",
    "\n",
    "    # 加载模型\n",
    "    self.model = T5ForConditionalGeneration.from_pretrained(model_path)\n",
    "\n",
    "\n",
    "\n",
    "model_test = testMengziSimpleT5()\n",
    "model_test.load_my_model()\n",
    "model_test.model = model_test.model.to('cuda')"
   ],
   "metadata": {
    "collapsed": false,
    "ExecuteTime": {
     "end_time": "2024-05-26T06:13:47.813385600Z",
     "start_time": "2024-05-26T06:13:34.009623200Z"
    }
   },
   "id": "1586a5ad26b9d56d"
  },
  {
   "cell_type": "code",
   "execution_count": 24,
   "outputs": [],
   "source": [
    "def getOneMessageModel(in_request, model=model_test, num_beams=2):\n",
    "  model.model = model.model.to('cuda')\n",
    "  out = model.predict(in_request,\n",
    "                      max_length=64,\n",
    "                      num_beams=num_beams)[0].replace(\",\", \"，\")\n",
    "\n",
    "  return out"
   ],
   "metadata": {
    "collapsed": false,
    "ExecuteTime": {
     "end_time": "2024-05-26T06:13:47.821151800Z",
     "start_time": "2024-05-26T06:13:47.816629800Z"
    }
   },
   "id": "b3dc0e1de3ddae1b"
  },
  {
   "cell_type": "code",
   "execution_count": 25,
   "outputs": [
    {
     "data": {
      "text/plain": "'叠叠层层叠嶂间，层层重叠映青山。 俯看梯田片青绿，深绿和烟覆绿斑。'"
     },
     "execution_count": 25,
     "metadata": {},
     "output_type": "execute_result"
    }
   ],
   "source": [
    "getOneMessageModel('作诗一首七言绝句</s>根据故事：周围起起伏伏的山峦披着绿的清新。向下看去，一层层错落有致的梯田一片片绿色，深绿和翠绿交错着。我感叹到：“啊!真美呀!”在山谷的底部，一条条小溪纵横交错着。')"
   ],
   "metadata": {
    "collapsed": false,
    "ExecuteTime": {
     "end_time": "2024-05-26T06:13:48.650650300Z",
     "start_time": "2024-05-26T06:13:47.817133900Z"
    }
   },
   "id": "7f46f03f220aca8f"
  },
  {
   "cell_type": "markdown",
   "source": [
    "# 整体测试"
   ],
   "metadata": {
    "collapsed": false
   },
   "id": "a0ca037bbbd651c4"
  },
  {
   "cell_type": "code",
   "execution_count": 26,
   "outputs": [],
   "source": [
    "def generateOne(title, story):\n",
    "    prompt = poem(title, story)\n",
    "    result_gpt4 = getOneMessageGPT(prompt).replace(\" \", \"\").replace(\"\\n\", \"\")\n",
    "    result_wxyy = getOneMessageWXYY(prompt).replace(\" \", \"\").replace(\"\\n\", \"\")\n",
    "    result_model = getOneMessageModel(prompt).replace(\" \", \"\").replace(\"\\n\", \"\")\n",
    "    return {'prompt':prompt, 'gpt4-result':result_gpt4, 'wenxinyiyan-result':result_wxyy, 'our-result': result_model}"
   ],
   "metadata": {
    "collapsed": false,
    "ExecuteTime": {
     "end_time": "2024-05-26T06:13:48.661061100Z",
     "start_time": "2024-05-26T06:13:48.650650300Z"
    }
   },
   "id": "1a3ab7f645ae97d9"
  },
  {
   "cell_type": "code",
   "execution_count": 27,
   "outputs": [],
   "source": [
    "def testModels(num_poem=2):\n",
    "    results = []\n",
    "    \n",
    "    # for title in ['七言律诗', \"七言绝句\", '五言律诗',\"五言绝句\"]:\n",
    "    for title in ['七言律诗', \"五言绝句\"]:\n",
    "        # Empty author means general style\n",
    "        for story in test_data_list[:num_poem]:\n",
    "            story = story[0]\n",
    "            results.append(generateOne(title, story))\n",
    "    \n",
    "    return results"
   ],
   "metadata": {
    "collapsed": false,
    "ExecuteTime": {
     "end_time": "2024-05-26T06:13:48.664463400Z",
     "start_time": "2024-05-26T06:13:48.656052200Z"
    }
   },
   "id": "b3d655b8e489c80c"
  },
  {
   "cell_type": "code",
   "execution_count": 34,
   "outputs": [
    {
     "data": {
      "text/plain": "{'prompt': '作诗一首七言绝句</s>根据故事：我最好的朋友为官清正，忠心耿耿，可惜朝中奸臣嫉妒他的才能，以莫须有的罪名害死了他。我抱着他的遗物来到他的故乡，看着乡亲们期盼见到他的眼神，我不禁痛哭流涕。',\n 'gpt4-result': '清官悲煞奸臣恶，忠心枉死泪沾衣。归乡抱遗亲罔识，痛入骨髓泣斜晖。',\n 'wenxinyiyan-result': '七言绝句故乡晴空照我哀，遗物持手中泪淹。忠贞耿介谢世事，遗恨奸臣祸满台。',\n 'our-result': '我有一友皆清直，岂料朝中妒莫须。抱余遗物还乡国，看取乡亲欲见无。'}"
     },
     "execution_count": 34,
     "metadata": {},
     "output_type": "execute_result"
    }
   ],
   "source": [
    "generateOne('七言绝句', '我最好的朋友为官清正，忠心耿耿，可惜朝中奸臣嫉妒他的才能，以莫须有的罪名害死了他。我抱着他的遗物来到他的故乡，看着乡亲们期盼见到他的眼神，我不禁痛哭流涕。')"
   ],
   "metadata": {
    "collapsed": false,
    "ExecuteTime": {
     "end_time": "2024-05-26T06:18:19.790918400Z",
     "start_time": "2024-05-26T06:18:14.595605500Z"
    }
   },
   "id": "3266b315da91b31f"
  },
  {
   "cell_type": "code",
   "execution_count": 38,
   "outputs": [
    {
     "data": {
      "text/plain": "{'prompt': '作诗一首七言律诗</s>根据故事：我最好的朋友为官清正，忠心耿耿，可惜朝中奸臣嫉妒他的才能，以莫须有的罪名害死了他。我抱着他的遗物来到他的故乡，看着乡亲们期盼见到他的眼神，我不禁痛哭流涕。',\n 'gpt4-result': '朋友德官清如洁，忠义侠骨映朝阳。奸臣嫉妒欲摧折，莫须有罪归黄土。遗象怀中泪满胆，长驱千里到故乡。乡亲眼望空归客，悲痛欲绝泣乾坤。',\n 'wenxinyiyan-result': '好的，以下是根据您的要求写的一首七言律诗：清官忠骨恨奸臣，莫须有罪枉死身。遗物携至故乡来，期盼眼神痛心扉。朝野奸佞妒才子，清廉声名枉成灰。痛哭流涕思故友，英魂永驻故乡水。',\n 'our-result': '我友清和志尚坚，岂知朝士恨何须。君王若妒奸臣才，我辈何须怨子胥。倚玉遗书来帝里，看花望月到乡乡。抚膺一顾思乡泪，看着乡亲欲泪垂。'}"
     },
     "execution_count": 38,
     "metadata": {},
     "output_type": "execute_result"
    }
   ],
   "source": [
    "generateOne('七言律诗', '我最好的朋友为官清正，忠心耿耿，可惜朝中奸臣嫉妒他的才能，以莫须有的罪名害死了他。我抱着他的遗物来到他的故乡，看着乡亲们期盼见到他的眼神，我不禁痛哭流涕。')"
   ],
   "metadata": {
    "collapsed": false,
    "ExecuteTime": {
     "end_time": "2024-05-26T06:44:37.077136100Z",
     "start_time": "2024-05-26T06:44:27.675436Z"
    }
   },
   "id": "dff7aab15900a2c0"
  },
  {
   "cell_type": "code",
   "execution_count": 29,
   "outputs": [
    {
     "data": {
      "text/plain": "{'prompt': '作诗一首七言律诗</s>根据故事：早上我打开窗户，看到花园中凋谢了很多花，它们都是我的朋友，我非常伤心。我想到自己活在世上，和花园中的一朵花也没什么区别。我的盛开和凋零都不是自己能做主的事情，我只能追寻心灵的自由',\n 'gpt4-result': '晨起我掀窗扉，望见园中花凋微。心怀友人情更深，玫瑰凋败伤欲绝。我也如其不自由，生之花开谁主权？尽寻心灵之自在，盛衰由命不由天。',\n 'wenxinyiyan-result': '清晨打开窗，花园花凋零，朋友皆凋谢，伤心难自抑。人生如花事，盛开亦凋零，自由在心间，追寻方不虚。世事如浮云，生命似晨露，花开自有期，凋零亦有时。心若自由翔，何惧花落去，只愿心灵净，自由永无止。',\n 'our-result': '晓开窗户见花频，看却庭花几处新。我到人间何足恨，与谁家世有何人。花间自是身闲事，花外何殊花有春。若要花开兼作主，只缘空逐梦中身。'}"
     },
     "execution_count": 29,
     "metadata": {},
     "output_type": "execute_result"
    }
   ],
   "source": [
    "generateOne('七言律诗', '早上我打开窗户，看到花园中凋谢了很多花，它们都是我的朋友，我非常伤心。我想到自己活在世上，和花园中的一朵花也没什么区别。我的盛开和凋零都不是自己能做主的事情，我只能追寻心灵的自由')"
   ],
   "metadata": {
    "collapsed": false,
    "ExecuteTime": {
     "end_time": "2024-05-26T06:14:03.581388300Z",
     "start_time": "2024-05-26T06:13:56.855741700Z"
    }
   },
   "id": "f26ff3283b346f3d"
  },
  {
   "cell_type": "code",
   "execution_count": 37,
   "outputs": [
    {
     "data": {
      "text/plain": "{'prompt': '作诗一首七言绝句</s>根据故事：独行的侠客走在绝壁上，风吹起长袍猎猎作响，周围传来几声鸟鸣。',\n 'gpt4-result': '侠客独行绝壁头，风吹衣袂猎猎鸣。周围鸟语声娇柔，无言告别人间情。',\n 'wenxinyiyan-result': '独行侠客绝壁行，长袍猎猎风声起。几声鸟鸣空谷响，山川壮丽入诗心。',\n 'our-result': '侠客横戈指剑门，风来长袍射雕鸣。风飘短笠声犹在，风起长袍数鸟鸣。'}"
     },
     "execution_count": 37,
     "metadata": {},
     "output_type": "execute_result"
    }
   ],
   "source": [
    "generateOne('七言绝句', '独行的侠客走在绝壁上，风吹起长袍猎猎作响，周围传来几声鸟鸣。')"
   ],
   "metadata": {
    "collapsed": false,
    "ExecuteTime": {
     "end_time": "2024-05-26T06:22:18.113863700Z",
     "start_time": "2024-05-26T06:22:11.008414300Z"
    }
   },
   "id": "1e52b8e18348a119"
  },
  {
   "cell_type": "code",
   "execution_count": 30,
   "outputs": [],
   "source": [
    "results = testModels(1)"
   ],
   "metadata": {
    "collapsed": false,
    "ExecuteTime": {
     "end_time": "2024-05-26T06:14:15.709559300Z",
     "start_time": "2024-05-26T06:14:03.579615600Z"
    }
   },
   "id": "da51262fd14bd36c"
  },
  {
   "cell_type": "code",
   "execution_count": 31,
   "outputs": [
    {
     "data": {
      "text/plain": "[{'prompt': '作诗一首七言律诗</s>根据故事：我家对面的门前有一大丛漂亮的花，它们在阳光下竞相开放，五颜六色。但蝴蝶花在这些花中脱颖而出，宛如一颗钻石在花丛中闪耀着他的光芒。',\n  'gpt4-result': '门前花丛竞斗艳，阳光下显辉煌。五色占尽春色艳，蝴蝶花独秀扬。犹如钻石光闪耀，披星戴月争芳香。万千花朵皆成背影，独领风骚举世光。',\n  'wenxinyiyan-result': '好的，以下是我为您创作的一首七言律诗：对面花丛艳阳天，蝶舞蜂鸣自欢颜。群芳争艳谁争锋，独蝶翩翩花间行。万紫千红皆寻常，唯有蝶花相映光。我家对面门前景，犹胜春色满园香。',\n  'our-result': '我家西郭两丛花，春日相开照面新。繁艳竞开争发日，娇姿竞发竞生春。蝶飞蜂散成千朵，蝶舞蜂多出五色。百花中出百花里，一朵明珠万丈新。'},\n {'prompt': '作诗一首五言绝句</s>根据故事：我家对面的门前有一大丛漂亮的花，它们在阳光下竞相开放，五颜六色。但蝴蝶花在这些花中脱颖而出，宛如一颗钻石在花丛中闪耀着他的光芒。',\n  'gpt4-result': '我家对门繁花笑，竞艳阳光色更饶。蝴蝶花中独放晴，犹如凡丛闪瑞兆。',\n  'wenxinyiyan-result': '我家对面门，花开竞艳阳。蝴蝶花独秀，璀璨如钻石。',\n  'our-result': '我家东郭花，日日竞相开。蝶在花中出，犹如一聚灰。'}]"
     },
     "execution_count": 31,
     "metadata": {},
     "output_type": "execute_result"
    }
   ],
   "source": [
    "results"
   ],
   "metadata": {
    "collapsed": false,
    "ExecuteTime": {
     "end_time": "2024-05-26T06:14:15.719153700Z",
     "start_time": "2024-05-26T06:14:15.712067Z"
    }
   },
   "id": "107aab9469a931e0"
  },
  {
   "cell_type": "code",
   "execution_count": 32,
   "outputs": [],
   "source": [
    "with open('../output/model3results.jsonl', mode='w', encoding='utf8') as f:\n",
    "    for item in results:\n",
    "        json.dump(item, f, ensure_ascii=False)\n",
    "        f.write('\\n')"
   ],
   "metadata": {
    "collapsed": false,
    "ExecuteTime": {
     "end_time": "2024-05-26T06:14:15.730694900Z",
     "start_time": "2024-05-26T06:14:15.715850600Z"
    }
   },
   "id": "8d4f1a54e0aa5cdd"
  }
 ],
 "metadata": {
  "kernelspec": {
   "display_name": "Python 3",
   "language": "python",
   "name": "python3"
  },
  "language_info": {
   "codemirror_mode": {
    "name": "ipython",
    "version": 2
   },
   "file_extension": ".py",
   "mimetype": "text/x-python",
   "name": "python",
   "nbconvert_exporter": "python",
   "pygments_lexer": "ipython2",
   "version": "2.7.6"
  }
 },
 "nbformat": 4,
 "nbformat_minor": 5
}
